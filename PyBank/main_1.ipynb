{
 "cells": [
  {
   "cell_type": "code",
   "execution_count": 220,
   "metadata": {},
   "outputs": [],
   "source": [
    "#Import libraries for CSV files\n",
    "from pathlib import Path\n",
    "import csv"
   ]
  },
  {
   "cell_type": "code",
   "execution_count": 221,
   "metadata": {},
   "outputs": [],
   "source": [
    "#Set CSV path as budget_data.csv\n",
    "csvdata = Path('../Resources/budget_data.csv')"
   ]
  },
  {
   "cell_type": "code",
   "execution_count": 248,
   "metadata": {},
   "outputs": [],
   "source": [
    "#Initialize Variables\n",
    "net_pnl = 0\n",
    "total_month = 0\n",
    "average = 0\n",
    "max_profit = 0\n",
    "max_loss = 0"
   ]
  },
  {
   "cell_type": "code",
   "execution_count": 249,
   "metadata": {},
   "outputs": [],
   "source": [
    "#Initialize Lists\n",
    "pnl_list = []\n",
    "month_list = []"
   ]
  },
  {
   "cell_type": "code",
   "execution_count": 250,
   "metadata": {},
   "outputs": [],
   "source": [
    "#Open the CSV\n",
    "with open(csvdata, 'r') as csvfile:\n",
    "    csvfile = csv.reader(csvfile, delimiter=',')\n",
    "    header = next(csvfile)\n",
    "    for row in csvfile:\n",
    "        pnl = int(row[1])\n",
    "        \n",
    "        if month_list!=[]:\n",
    "            pnl_list.append(pnl - month_list [-1][1])\n",
    "        month_list.append([row[0], pnl])\n",
    "        net_pnl += pnl\n",
    "        total_month = len(month_list)"
   ]
  },
  {
   "cell_type": "code",
   "execution_count": 251,
   "metadata": {},
   "outputs": [],
   "source": [
    "#Formula to calculate the average change in PnL\n",
    "average = round(sum(pnl_list)/len(pnl_list),2)"
   ]
  },
  {
   "cell_type": "code",
   "execution_count": 252,
   "metadata": {},
   "outputs": [],
   "source": [
    "#Max Loss\n",
    "max_loss = min(pnl_list)\n",
    "max_loss_month = month_list[pnl_list.index(max_loss)+1][0]"
   ]
  },
  {
   "cell_type": "code",
   "execution_count": 253,
   "metadata": {},
   "outputs": [],
   "source": [
    "#Max Profit \n",
    "max_profit = max(pnl_list)\n",
    "max_profit_month = month_list[pnl_list.index(max_profit)+1][0]"
   ]
  },
  {
   "cell_type": "code",
   "execution_count": 254,
   "metadata": {},
   "outputs": [
    {
     "name": "stdout",
     "output_type": "stream",
     "text": [
      "Financial Analysis\n",
      "------------------------\n",
      "Total Months: 86\n",
      "Total Pnl: $38382578\n",
      "Average Change: $-2315.12\n",
      "Greatest Increase in Profits was $1926159 on Feb-2012)\n",
      "Greatest Drawdown in Profits was $-2196167 on Sep-2013)\n"
     ]
    }
   ],
   "source": [
    "print('Financial Analysis')\n",
    "print('------------------------')\n",
    "print(f'Total Months: {total_month}')\n",
    "print(f'Total Pnl: ${net_pnl}')\n",
    "print(f'Average Change: ${average}')\n",
    "print(f'Greatest Increase in Profits was ${max_profit} on {max_profit_month})')\n",
    "print(f'Greatest Drawdown in Profits was ${max_loss} on {max_loss_month})')"
   ]
  },
  {
   "cell_type": "code",
   "execution_count": 247,
   "metadata": {},
   "outputs": [],
   "source": [
    "#Set outpath text file\n",
    "output = 'pybank.txt'\n",
    "\n",
    "with open(output, 'w') as file:\n",
    "    file.write('Financial Analysis')\n",
    "    file.write('\\n---------------------')\n",
    "    file.write(f'\\n Total Months: {total_month}')\n",
    "    file.write(f'\\n Total Pnl: ${net_pnl}')\n",
    "    file.write(f'\\n Average Change: ${average}')\n",
    "    file.write(f'\\n Greatest Increase in Profits was ${max_profit} on {max_profit_month}')\n",
    "    file.write(f'\\n Greatest Drawdown in Profits was ${max_loss} on {max_loss_month}')"
   ]
  },
  {
   "cell_type": "code",
   "execution_count": null,
   "metadata": {},
   "outputs": [],
   "source": []
  },
  {
   "cell_type": "code",
   "execution_count": null,
   "metadata": {},
   "outputs": [],
   "source": []
  }
 ],
 "metadata": {
  "kernelspec": {
   "display_name": "Python 3",
   "language": "python",
   "name": "python3"
  },
  "language_info": {
   "codemirror_mode": {
    "name": "ipython",
    "version": 3
   },
   "file_extension": ".py",
   "mimetype": "text/x-python",
   "name": "python",
   "nbconvert_exporter": "python",
   "pygments_lexer": "ipython3",
   "version": "3.7.4"
  }
 },
 "nbformat": 4,
 "nbformat_minor": 4
}
